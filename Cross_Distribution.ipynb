{
  "nbformat": 4,
  "nbformat_minor": 0,
  "metadata": {
    "colab": {
      "provenance": [],
      "authorship_tag": "ABX9TyNEtXuCDMgpXs2hAADtP94t",
      "include_colab_link": true
    },
    "kernelspec": {
      "name": "python3",
      "display_name": "Python 3"
    },
    "language_info": {
      "name": "python"
    }
  },
  "cells": [
    {
      "cell_type": "markdown",
      "metadata": {
        "id": "view-in-github",
        "colab_type": "text"
      },
      "source": [
        "<a href=\"https://colab.research.google.com/github/OrensteinLab/PrimerDesigner/blob/main/Cross_Distribution.ipynb\" target=\"_parent\"><img src=\"https://colab.research.google.com/assets/colab-badge.svg\" alt=\"Open In Colab\"/></a>"
      ]
    },
    {
      "cell_type": "code",
      "source": [
        "pip install primer3-py"
      ],
      "metadata": {
        "colab": {
          "base_uri": "https://localhost:8080/"
        },
        "id": "OvPKtONYAV9T",
        "outputId": "cc65f679-6b63-447b-838f-32217dccd472"
      },
      "execution_count": 1,
      "outputs": [
        {
          "output_type": "stream",
          "name": "stdout",
          "text": [
            "Collecting primer3-py\n",
            "  Downloading primer3_py-2.0.1-cp310-cp310-manylinux_2_17_x86_64.manylinux2014_x86_64.whl (2.6 MB)\n",
            "\u001b[2K     \u001b[90m━━━━━━━━━━━━━━━━━━━━━━━━━━━━━━━━━━━━━━━━\u001b[0m \u001b[32m2.6/2.6 MB\u001b[0m \u001b[31m8.6 MB/s\u001b[0m eta \u001b[36m0:00:00\u001b[0m\n",
            "\u001b[?25hInstalling collected packages: primer3-py\n",
            "Successfully installed primer3-py-2.0.1\n"
          ]
        }
      ]
    },
    {
      "cell_type": "code",
      "source": [
        "import random as rand\n",
        "import primer3"
      ],
      "metadata": {
        "id": "pp3BHWrY_izD"
      },
      "execution_count": 2,
      "outputs": []
    },
    {
      "cell_type": "code",
      "execution_count": 3,
      "metadata": {
        "id": "nj3zFA6J-BLW"
      },
      "outputs": [],
      "source": [
        "#https://www.ncbi.nlm.nih.gov/CCDS/CcdsBrowse.cgi?REQUEST=CCDS&GO=MainBrowse&DATA=CCDS86373.1\n",
        "seq = \"\"\"ATGCTGCTGCTGCTGCTGCTGCTGCTGCTGCTGCCGCCACTAGTCCTCAGGGTTGCTGCAAGCCGATGTC\n",
        "TACATGATGAGACACAGAAGTCTGTGAGCCTTCTCAGGCCCCCTTTCTCCCAACTCCCCTCAAAATCTCG\n",
        "CTCTTCCTCCCTCACCCTCCCTAGCTCCCGTGATCCTCAACCCCTACGAATCCAAAGCTGCTATCTAGGA\n",
        "GATCATATATCAGATGGAGCTTGGGATCCTGAGGGAGAAGGGATGAGAGGGGGATCCCGAGCCCTGGCCG\n",
        "CAGTGAGAGAGGCCACTCAGCGAATCCAGGCTGTTCTAGCAGTGCAAGGACCCCTGCTTCTGAGTCGAGA\n",
        "CCCTGCACAGTATTGCCACGCTGTCTGGGGAGACCCAGATAGCCCAAACTACCACAGGTGCAGCCTCTTG\n",
        "AACCCAGGATACAAAGGAGAGAGTTGCCTGGGGGCAAAGATTCCTGACACCCATCTTCGCGGTTATGCCT\n",
        "TGTGGCCGGAGCAGGGTCCCCCACAACTGGTCCAGCCAGATGGGCCTGGGGTCCAAAACACTGATTTTCT\n",
        "CCTGTATGTGCGAGTTGCTCACACTTCCAAGTGCCACCAAGAGACAGTCTCACTCTGTTGCCCAGGCTGG\n",
        "AGTACAGCGGCCCAATCACAGCTCACCGCAGCCTTGACCTCCTGGGCTCAGAGACGGGGTTTTGTCATGT\n",
        "TGCCCAGGCTGTGTCTCAAACTCTTGGGCTCAAGCAATCTGCCCACCTTGGCTTCCCAAAGTATCAGGAT\n",
        "TACAGGCCCCTCTGTCATAGCCTATGCTGCCTGCTGCCAGCTGGACTCAGAAGACAGGCCCCTCGCTGGT\n",
        "ACCATTGTCTACTGTGCCCAACATCTCACCAGCCCCAGCCTCAGCCACAGTGACATCGTCATGGCCACAT\n",
        "TACATGAATTGCTCCATGCCTTGGGTTTCTCTGGACAGCTCTTCAAGAAATGGCGAGACTGCCCCTCAGG\n",
        "ATTCAGTGTTAGAGAGAACTGTTCTACAAGGCAACTAGTGACAAGGCAAGATGAGTGGGGACAACTGCTT\n",
        "CTCACCACCCCAGCTGTTAGCCTCAGCCTGGCCAAACACTTGGGAGTGTCGGGGGCTTCCCTGGGTGTTC\n",
        "CCTTGGAAGAAGAGGAGGGCCTTCTGTCCTCGCACTGGGAGGCCAGACTACTCCAGGGTTCTTTAATGAC\n",
        "TGCTACCTTTGATGGAGCCCAGCGCACTCGACTCGACCCAATCACCCTCGCTGCCTTCAAAGACTCAGGC\n",
        "TGGTACCAGGTCAACCACAGCGCTGCAGAGGAGCTGTTGTGGGGCCAGGGATCTGGCCCAGAATTTGGCT\n",
        "TGGTGACCACATGTGGGACTGGCTCCTCAGACTTCTTCTGTACTGGCAGTGGGCTGGGCTGCCACTACCT\n",
        "GCACCTGGACAAGGGAAGCTGCTCCTCAGACCCCATGCTGGAAGGCTGCCGCATGTACAAGCCCTTAGCC\n",
        "AATGGGAGTGAATGCTGGAAGAAGGAAAACGGATTCCCTGCTGGGGTGGATAATCCCCATGGGGAGATCT\n",
        "ACCATCCCCAGAGCCGTTGCTTCTTTGCCAACCTCACTTCACAGCTGCTCCCTGGGGATAAGCCCAGGCA\n",
        "TCCTTCTCTTACCCCACACCTCAAGGAAGCAGAGCTCATGGGCCGCTGCTACTTACATCAATGCACAGGG\n",
        "AGGGGAGCTTACAAGGTGCAGGTGGAGGGCTCGCCTTGGGTCCCATGCCTTCCTGGAAAGGTTATACAGA\n",
        "TACCTGGGTACTATGGTCTTCTCTTCTGTCCCCGGGGTCGGCTGTGTCAGACTAATGAAGATATCAATGC\n",
        "TGTTACTTCCCCACCTGTGAGTCTTTCAACCCCAGATCCACTATTCCAGCTCTCTTTAGAATTAGCTGGG\n",
        "CCTCCAGGACACTCTCTGGGGAAGGAACAGCAAGAAGGGCTAGCTGAAGCAGTACTGGAGGCTTTGGCGA\n",
        "GCAAAGGCGGCACTGGCAGGTGCTATTTCCATGGCCCATCAATTACCACTAGCTTGGTGTTTACTGTGCA\n",
        "TATGTGGAAGTCCCCTGGCTGCCAAGGGCCTTCAGTTGCTACACTGCACAAGGCCCTGACTCTGACTCTC\n",
        "CAGAAAAAACCCCTAGAAGTGTATCATGGAGGAGCCAACTTTACCACACAACCCAGCAAGTTGCTGGTTA\n",
        "CTTCAGACCATAATCCCTCCATGACCCACCTAAGGCTGTCCATGGGACTCTGCCTAATGCTGCTAATCCT\n",
        "GGTGGGTGTAATGGGAACCACAGCCTACCAGAAAAGAGCCACTCTTCCTGTGAGACCATCTGCCTCTTAC\n",
        "CATTCACCAGAGCTCCACAGCACAAGGGTCCCAGTTAGAGGAATAAGGGAGGTGTGA\"\"\".replace('\\n', '')\n"
      ]
    },
    {
      "cell_type": "code",
      "source": [
        "primer_lmin, primer_lmax = 18,30\n",
        "data = {}"
      ],
      "metadata": {
        "id": "oKXY-M47-0yK"
      },
      "execution_count": 5,
      "outputs": []
    },
    {
      "cell_type": "code",
      "source": [
        "for i in range(10000):\n",
        "  length1 = rand.randint(primer_lmin, primer_lmax)\n",
        "  length2 = rand.randint(primer_lmin, primer_lmax)\n",
        "\n",
        "  start1 = rand.randint(0, len(seq) - length1)\n",
        "  start2 = rand.randint(0, len(seq) - length2)\n",
        "\n",
        "  piece1 = seq[start1: length1 + start1 + 1]\n",
        "  piece2 = seq[start2: length2 + start2 + 1]\n",
        "\n",
        "  #print(piece1, piece2)\n",
        "  tm = primer3.bindings.calc_heterodimer(piece1, piece2, mv_conc=50.0, dv_conc=1.5, dntp_conc=0.6, dna_conc=50.0, temp_c=37.0, max_loop=30).tm\n",
        "  #print(tm)\n",
        "\n",
        "  data[(piece1, piece2)] = tm"
      ],
      "metadata": {
        "id": "bbqYg4l4_dt1"
      },
      "execution_count": 6,
      "outputs": []
    },
    {
      "cell_type": "code",
      "source": [
        "import matplotlib.pyplot as plt\n",
        "plt.hist(data.values(), bins=100, edgecolor='black')"
      ],
      "metadata": {
        "colab": {
          "base_uri": "https://localhost:8080/",
          "height": 1000
        },
        "id": "tYKvJfWhqPwW",
        "outputId": "84ed67a6-33cc-433e-a727-f2f75e1e6196"
      },
      "execution_count": 7,
      "outputs": [
        {
          "output_type": "execute_result",
          "data": {
            "text/plain": [
              "(array([  1.,   0.,   0.,   0.,   0.,   0.,   0.,   0.,   0.,   0.,   0.,\n",
              "          0.,   0.,   0.,   0.,   0.,   0.,   0.,   4.,   3.,   0.,   2.,\n",
              "          0.,   0.,   2.,   2.,   1.,   2.,   3.,   3.,  10.,   3.,   5.,\n",
              "          7.,   3.,   2.,   6.,  10.,   4.,  10.,  10.,  12.,  13.,  24.,\n",
              "         36.,  45.,  50.,  69.,  51.,  78.,  95.,  85.,  78., 126., 123.,\n",
              "        135., 167., 150., 196., 202., 268., 245., 289., 290., 260., 255.,\n",
              "        317., 321., 340., 327., 356., 303., 372., 374., 356., 391., 359.,\n",
              "        337., 346., 322., 287., 287., 235., 206., 172., 143., 131.,  76.,\n",
              "         75.,  42.,  31.,  21.,  12.,   7.,   7.,   5.,   1.,   3.,   0.,\n",
              "          3.]),\n",
              " array([-126.19346345, -124.45175164, -122.71003984, -120.96832804,\n",
              "        -119.22661623, -117.48490443, -115.74319262, -114.00148082,\n",
              "        -112.25976902, -110.51805721, -108.77634541, -107.0346336 ,\n",
              "        -105.2929218 , -103.55120999, -101.80949819, -100.06778639,\n",
              "         -98.32607458,  -96.58436278,  -94.84265097,  -93.10093917,\n",
              "         -91.35922737,  -89.61751556,  -87.87580376,  -86.13409195,\n",
              "         -84.39238015,  -82.65066835,  -80.90895654,  -79.16724474,\n",
              "         -77.42553293,  -75.68382113,  -73.94210933,  -72.20039752,\n",
              "         -70.45868572,  -68.71697391,  -66.97526211,  -65.2335503 ,\n",
              "         -63.4918385 ,  -61.7501267 ,  -60.00841489,  -58.26670309,\n",
              "         -56.52499128,  -54.78327948,  -53.04156768,  -51.29985587,\n",
              "         -49.55814407,  -47.81643226,  -46.07472046,  -44.33300866,\n",
              "         -42.59129685,  -40.84958505,  -39.10787324,  -37.36616144,\n",
              "         -35.62444963,  -33.88273783,  -32.14102603,  -30.39931422,\n",
              "         -28.65760242,  -26.91589061,  -25.17417881,  -23.43246701,\n",
              "         -21.6907552 ,  -19.9490434 ,  -18.20733159,  -16.46561979,\n",
              "         -14.72390799,  -12.98219618,  -11.24048438,   -9.49877257,\n",
              "          -7.75706077,   -6.01534896,   -4.27363716,   -2.53192536,\n",
              "          -0.79021355,    0.95149825,    2.69321006,    4.43492186,\n",
              "           6.17663366,    7.91834547,    9.66005727,   11.40176908,\n",
              "          13.14348088,   14.88519268,   16.62690449,   18.36861629,\n",
              "          20.1103281 ,   21.8520399 ,   23.5937517 ,   25.33546351,\n",
              "          27.07717531,   28.81888712,   30.56059892,   32.30231073,\n",
              "          34.04402253,   35.78573433,   37.52744614,   39.26915794,\n",
              "          41.01086975,   42.75258155,   44.49429335,   46.23600516,\n",
              "          47.97771696]),\n",
              " <BarContainer object of 100 artists>)"
            ]
          },
          "metadata": {},
          "execution_count": 7
        },
        {
          "output_type": "display_data",
          "data": {
            "text/plain": [
              "<Figure size 640x480 with 1 Axes>"
            ],
            "image/png": "[encoded data removed]"
          },
          "metadata": {}
        }
      ]
    },
    {
      "cell_type": "code",
      "source": [
        "import numpy as np #Everything below -45"
      ],
      "metadata": {
        "id": "fMp_Ngmsr5Yh"
      },
      "execution_count": null,
      "outputs": []
    },
    {
      "cell_type": "code",
      "source": [
        "threshold = np.percentile(np.array(list(data.values())), 99.9)"
      ],
      "metadata": {
        "id": "W8Si_g5tsG65"
      },
      "execution_count": null,
      "outputs": []
    },
    {
      "cell_type": "code",
      "source": [
        "print([(pair,val) for pair, val in data.items() if val >= threshold])"
      ],
      "metadata": {
        "colab": {
          "base_uri": "https://localhost:8080/"
        },
        "id": "ze_Z8G0rsgBH",
        "outputId": "cb57c8cf-2fba-4627-fa4d-555769317930"
      },
      "execution_count": null,
      "outputs": [
        {
          "output_type": "stream",
          "name": "stdout",
          "text": [
            "[(('GAGGGGGATCCCGAGCCCTGGCCGCAG', 'CAGGTGGAGGGCTCGCCTTGGGTCCCATGCC'), 32.87480257781908), (('AACCCAGCAAGTTGCTGGTTACTTCAG', 'AACCCAGCAAGTTGCTGGTTACT'), 38.84585319911332), (('TGTGGAAGTCCCCTGGCTGCC', 'CTGGCTGCCAAGGGCCTTCAGT'), 36.39604260922249), (('TGCCTGCTGCCAGCTGGACTCAGAAG', 'CTTCTGAGTCGAGACCCTGCACAGTATTG'), 33.23619878951325), (('CCCTGCTTCTGAGTCGAGACCCTG', 'CTGCCAGCTGGACTCAGAAGACAGG'), 35.340069911226806), (('CGAGTTGCTCACACTTCCAAGTG', 'CTGGCCAAACACTTGGGAGTGTCGGGG'), 35.23115032096996), (('TGTGGGACTGGCTCCTCAGACTTC', 'CAGAAGTCTGTGAGCCTTC'), 36.84603807338607), (('GTTGCCCAGGCTGGAGTACAGCGGCCCA', 'GAGCTCATGGGCCGCTGCTACTTA'), 43.24022282034508), (('TGGCTCCTCAGACTTCTTCTGT', 'CACAGAAGTCTGTGAGCCTTCTCAGGCCCC'), 33.5393004378671), (('TAGCAGTGCAAGGACCCCTGCTTCTGAGT', 'AGCTGGACTCAGAAGACAGGCCCCTCGCTGG'), 34.67669811541202)]\n"
          ]
        }
      ]
    },
    {
      "cell_type": "code",
      "source": [
        "min(data.values())"
      ],
      "metadata": {
        "colab": {
          "base_uri": "https://localhost:8080/"
        },
        "id": "O9v-aNbp0268",
        "outputId": "c56c4176-8a33-480a-d848-457fc37981d2"
      },
      "execution_count": null,
      "outputs": [
        {
          "output_type": "execute_result",
          "data": {
            "text/plain": [
              "-437.0718901819689"
            ]
          },
          "metadata": {},
          "execution_count": 132
        }
      ]
    },
    {
      "cell_type": "code",
      "source": [
        "print([(pair,val) for pair, val in data.items() if val == min(data.values())])"
      ],
      "metadata": {
        "colab": {
          "base_uri": "https://localhost:8080/"
        },
        "id": "k70v0JlC05Ay",
        "outputId": "28840601-b223-4dcf-d5e7-0ed4081984b1"
      },
      "execution_count": null,
      "outputs": [
        {
          "output_type": "stream",
          "name": "stdout",
          "text": [
            "[(('ACCAGCCCCAGCCTCAGCCACAGTGACAT', 'CTGCTGCTGCTGCTGCTGCTGCTGCT'), -437.0718901819689), (('CTTCTCACCACCCCAGCTGT', 'CTCTTCTGTCCCCGGGGTCGGCTGTGTCA'), -437.0718901819689), (('CTCGCTGCCTTCAAAGACT', 'GCTGCTGCTGCTGCTGCCGCCACT'), -437.0718901819689), (('GGCCACATTACATGAATTGCTCCATGCCT', 'CGCTCTTCCTCCCTCACCC'), -437.0718901819689)]\n"
          ]
        }
      ]
    }
  ]
}