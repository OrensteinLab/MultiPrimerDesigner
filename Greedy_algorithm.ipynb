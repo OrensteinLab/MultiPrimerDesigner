{
  "nbformat": 4,
  "nbformat_minor": 0,
  "metadata": {
    "colab": {
      "provenance": []
    },
    "kernelspec": {
      "name": "python3",
      "display_name": "Python 3"
    },
    "language_info": {
      "name": "python"
    }
  },
  "cells": [
    {
      "cell_type": "markdown",
      "source": [
        "##Installs & Imports\n"
      ],
      "metadata": {
        "id": "h0741AXyoYRt"
      }
    },
    {
      "cell_type": "code",
      "execution_count": 14,
      "metadata": {
        "colab": {
          "base_uri": "https://localhost:8080/"
        },
        "id": "_TL60hMLoJUr",
        "outputId": "a87ff30f-fd9e-4ee3-eed3-15cbccbfbcc0"
      },
      "outputs": [
        {
          "output_type": "stream",
          "name": "stdout",
          "text": [
            "Requirement already satisfied: bokeh in /usr/local/lib/python3.10/dist-packages (3.4.1)\n",
            "Requirement already satisfied: seaborn in /usr/local/lib/python3.10/dist-packages (0.13.2)\n",
            "Requirement already satisfied: pandas in /usr/local/lib/python3.10/dist-packages (2.2.2)\n",
            "Requirement already satisfied: Jinja2>=2.9 in /usr/local/lib/python3.10/dist-packages (from bokeh) (3.1.3)\n",
            "Requirement already satisfied: contourpy>=1.2 in /usr/local/lib/python3.10/dist-packages (from bokeh) (1.2.0)\n",
            "Requirement already satisfied: numpy>=1.16 in /usr/local/lib/python3.10/dist-packages (from bokeh) (1.23.5)\n",
            "Requirement already satisfied: packaging>=16.8 in /usr/local/lib/python3.10/dist-packages (from bokeh) (23.2)\n",
            "Requirement already satisfied: pillow>=7.1.0 in /usr/local/lib/python3.10/dist-packages (from bokeh) (9.4.0)\n",
            "Requirement already satisfied: PyYAML>=3.10 in /usr/local/lib/python3.10/dist-packages (from bokeh) (6.0.1)\n",
            "Requirement already satisfied: tornado>=6.2 in /usr/local/lib/python3.10/dist-packages (from bokeh) (6.3.2)\n",
            "Requirement already satisfied: xyzservices>=2021.09.1 in /usr/local/lib/python3.10/dist-packages (from bokeh) (2023.10.1)\n",
            "Requirement already satisfied: matplotlib!=3.6.1,>=3.4 in /usr/local/lib/python3.10/dist-packages (from seaborn) (3.7.1)\n",
            "Requirement already satisfied: python-dateutil>=2.8.2 in /usr/local/lib/python3.10/dist-packages (from pandas) (2.8.2)\n",
            "Requirement already satisfied: pytz>=2020.1 in /usr/local/lib/python3.10/dist-packages (from pandas) (2023.4)\n",
            "Requirement already satisfied: tzdata>=2022.7 in /usr/local/lib/python3.10/dist-packages (from pandas) (2024.1)\n",
            "Requirement already satisfied: MarkupSafe>=2.0 in /usr/local/lib/python3.10/dist-packages (from Jinja2>=2.9->bokeh) (2.1.5)\n",
            "Requirement already satisfied: cycler>=0.10 in /usr/local/lib/python3.10/dist-packages (from matplotlib!=3.6.1,>=3.4->seaborn) (0.12.1)\n",
            "Requirement already satisfied: fonttools>=4.22.0 in /usr/local/lib/python3.10/dist-packages (from matplotlib!=3.6.1,>=3.4->seaborn) (4.47.2)\n",
            "Requirement already satisfied: kiwisolver>=1.0.1 in /usr/local/lib/python3.10/dist-packages (from matplotlib!=3.6.1,>=3.4->seaborn) (1.4.5)\n",
            "Requirement already satisfied: pyparsing>=2.3.1 in /usr/local/lib/python3.10/dist-packages (from matplotlib!=3.6.1,>=3.4->seaborn) (3.1.1)\n",
            "Requirement already satisfied: six>=1.5 in /usr/local/lib/python3.10/dist-packages (from python-dateutil>=2.8.2->pandas) (1.16.0)\n",
            "Collecting seequence\n",
            "  Cloning https://github.com/FordyceLab/seequence.git to /tmp/pip-install-yo3pmvda/seequence_afab25e774ab4a28a861bf7cb6c991ee\n",
            "  Running command git clone --filter=blob:none --quiet https://github.com/FordyceLab/seequence.git /tmp/pip-install-yo3pmvda/seequence_afab25e774ab4a28a861bf7cb6c991ee\n",
            "  Resolved https://github.com/FordyceLab/seequence.git to commit 3ea730537fcf5b7ef807ebf6e057f5bf4e875bb9\n",
            "  Preparing metadata (setup.py) ... \u001b[?25l\u001b[?25hdone\n",
            "Requirement already satisfied: numpy in /usr/local/lib/python3.10/dist-packages (from seequence) (1.23.5)\n",
            "Requirement already satisfied: bokeh in /usr/local/lib/python3.10/dist-packages (from seequence) (3.4.1)\n",
            "Requirement already satisfied: Jinja2>=2.9 in /usr/local/lib/python3.10/dist-packages (from bokeh->seequence) (3.1.3)\n",
            "Requirement already satisfied: contourpy>=1.2 in /usr/local/lib/python3.10/dist-packages (from bokeh->seequence) (1.2.0)\n",
            "Requirement already satisfied: packaging>=16.8 in /usr/local/lib/python3.10/dist-packages (from bokeh->seequence) (23.2)\n",
            "Requirement already satisfied: pandas>=1.2 in /usr/local/lib/python3.10/dist-packages (from bokeh->seequence) (2.2.2)\n",
            "Requirement already satisfied: pillow>=7.1.0 in /usr/local/lib/python3.10/dist-packages (from bokeh->seequence) (9.4.0)\n",
            "Requirement already satisfied: PyYAML>=3.10 in /usr/local/lib/python3.10/dist-packages (from bokeh->seequence) (6.0.1)\n",
            "Requirement already satisfied: tornado>=6.2 in /usr/local/lib/python3.10/dist-packages (from bokeh->seequence) (6.3.2)\n",
            "Requirement already satisfied: xyzservices>=2021.09.1 in /usr/local/lib/python3.10/dist-packages (from bokeh->seequence) (2023.10.1)\n",
            "Requirement already satisfied: MarkupSafe>=2.0 in /usr/local/lib/python3.10/dist-packages (from Jinja2>=2.9->bokeh->seequence) (2.1.5)\n",
            "Requirement already satisfied: python-dateutil>=2.8.2 in /usr/local/lib/python3.10/dist-packages (from pandas>=1.2->bokeh->seequence) (2.8.2)\n",
            "Requirement already satisfied: pytz>=2020.1 in /usr/local/lib/python3.10/dist-packages (from pandas>=1.2->bokeh->seequence) (2023.4)\n",
            "Requirement already satisfied: tzdata>=2022.7 in /usr/local/lib/python3.10/dist-packages (from pandas>=1.2->bokeh->seequence) (2024.1)\n",
            "Requirement already satisfied: six>=1.5 in /usr/local/lib/python3.10/dist-packages (from python-dateutil>=2.8.2->pandas>=1.2->bokeh->seequence) (1.16.0)\n",
            "Requirement already satisfied: primer3-py in /usr/local/lib/python3.10/dist-packages (2.0.3)\n",
            "Requirement already satisfied: biopython in /usr/local/lib/python3.10/dist-packages (1.75)\n",
            "Requirement already satisfied: pandarallel in /usr/local/lib/python3.10/dist-packages (1.6.5)\n",
            "Requirement already satisfied: numpy in /usr/local/lib/python3.10/dist-packages (from biopython) (1.23.5)\n",
            "Requirement already satisfied: dill>=0.3.1 in /usr/local/lib/python3.10/dist-packages (from pandarallel) (0.3.8)\n",
            "Requirement already satisfied: pandas>=1 in /usr/local/lib/python3.10/dist-packages (from pandarallel) (2.2.2)\n",
            "Requirement already satisfied: psutil in /usr/local/lib/python3.10/dist-packages (from pandarallel) (5.9.5)\n",
            "Requirement already satisfied: python-dateutil>=2.8.2 in /usr/local/lib/python3.10/dist-packages (from pandas>=1->pandarallel) (2.8.2)\n",
            "Requirement already satisfied: pytz>=2020.1 in /usr/local/lib/python3.10/dist-packages (from pandas>=1->pandarallel) (2023.4)\n",
            "Requirement already satisfied: tzdata>=2022.7 in /usr/local/lib/python3.10/dist-packages (from pandas>=1->pandarallel) (2024.1)\n",
            "Requirement already satisfied: six>=1.5 in /usr/local/lib/python3.10/dist-packages (from python-dateutil>=2.8.2->pandas>=1->pandarallel) (1.16.0)\n",
            "Requirement already satisfied: pulp in /usr/local/lib/python3.10/dist-packages (2.8.0)\n",
            "Requirement already satisfied: gurobipy in /usr/local/lib/python3.10/dist-packages (11.0.1)\n",
            "Requirement already satisfied: biopython==1.75 in /usr/local/lib/python3.10/dist-packages (1.75)\n",
            "Requirement already satisfied: numpy in /usr/local/lib/python3.10/dist-packages (from biopython==1.75) (1.23.5)\n"
          ]
        }
      ],
      "source": [
        "!pip install -U bokeh seaborn pandas\n",
        "!pip install git+https://github.com/FordyceLab/seequence.git#egg=seequence\n",
        "!pip install primer3-py biopython pandarallel\n",
        "!pip install pulp\n",
        "!pip install gurobipy\n",
        "!pip install biopython==1.75\n"
      ]
    },
    {
      "cell_type": "code",
      "source": [
        "# IMPORTS\n",
        "import time\n",
        "\n",
        "import random as rand\n",
        "from itertools import product\n",
        "\n",
        "from seequence.view import *\n",
        "from seequence.color import *\n",
        "\n",
        "from pandarallel import pandarallel as pl\n",
        "pl.initialize()\n",
        "\n",
        "import primer3 as p3\n",
        "from Bio.Seq import Seq\n",
        "from Bio.SeqUtils import GC, seq1, seq3\n",
        "from Bio.SeqUtils.CodonUsage import SharpEcoliIndex, SynonymousCodons\n",
        "\n",
        "import itertools as it\n",
        "import numpy as np\n",
        "import pandas as pd\n",
        "pd.set_option('display.precision', 1)\n",
        "import networkx as nx\n",
        "\n",
        "import matplotlib.pyplot as plt\n",
        "import seaborn as sns\n",
        "from bokeh.models.annotations import Span\n",
        "from bokeh.models import Select\n",
        "from bokeh.layouts import column\n",
        "from IPython.display import display, clear_output\n",
        "\n",
        "import gurobipy as gp\n",
        "\n",
        "import pickle\n",
        "\n",
        "import tracemalloc\n",
        "import matplotlib.pyplot as plt\n",
        "\n",
        "def revcomp(seq):\n",
        "  return str(Seq(seq).reverse_complement())\n",
        "def translate(seq):\n",
        "  return str(Seq(seq).translate())\n",
        "\n",
        "# clear_output()\n",
        "print('Ready')"
      ],
      "metadata": {
        "colab": {
          "base_uri": "https://localhost:8080/"
        },
        "id": "UxJoqMOOoauI",
        "outputId": "840ba3c5-7be9-4859-d381-6a0612907187"
      },
      "execution_count": 15,
      "outputs": [
        {
          "output_type": "stream",
          "name": "stdout",
          "text": [
            "INFO: Pandarallel will run on 16 workers.\n",
            "INFO: Pandarallel will use Memory file system to transfer data between the main process and workers.\n",
            "Ready\n"
          ]
        }
      ]
    },
    {
      "cell_type": "markdown",
      "source": [
        "## Find primer sequences"
      ],
      "metadata": {
        "id": "6c8KYGn6olC0"
      }
    },
    {
      "cell_type": "code",
      "source": [
        "def n_subsequences(sequence, lmin, lmax):\n",
        "  print(sum(len(sequence) - l + 1 for l in range(lmin, lmax+1)))\n",
        "\n",
        "def subsequences(sequence, lmin, lmax): #Generates all subsequences w/ all poss. start-stop pairs\n",
        "  ls = []\n",
        "  for j in range(lmin, lmax+1): #length\n",
        "    for i in range(len(sequence)-j+1): #starting index\n",
        "      start = i\n",
        "      stop = i+j\n",
        "      ls.append([sequence[start:stop], start, stop, stop-start])\n",
        "  return pd.DataFrame(ls, columns=['seq','start','stop','len'])"
      ],
      "metadata": {
        "id": "-piUHh2poe0f"
      },
      "execution_count": 16,
      "outputs": []
    },
    {
      "cell_type": "markdown",
      "source": [
        "## Primer Data\n",
        "##### Creates the primer pandas dataframe containing information about every possible primer in the protein coding sequence. The function calculates various primer parameters including gc content, delta G and melting temepratures. The cost is also calculated for every primer"
      ],
      "metadata": {
        "id": "DX7a8MPaouQR"
      }
    },
    {
      "cell_type": "code",
      "source": [
        "def create_primer_df(sequence_nt):\n",
        "  # convention: start index of r-primers will be 3' (i.e. start < stop)\n",
        "  primer_f = pd.DataFrame(columns=['seq','start','stop','fr','len'])\n",
        "  primer_f[['seq','start','stop','len']] = subsequences(sequence_nt, primer_lmin, primer_lmax)\n",
        "  primer_f['fr'] = 'f'\n",
        "\n",
        "  #Shifting so that 0 is at the start of mutreg (upstream has negative values)\n",
        "  primer_f['start'] = primer_f.start - len(upstream_nt)\n",
        "  primer_f['stop'] = primer_f.stop - len(upstream_nt)\n",
        "\n",
        "  #Creating reverse primers at same locations\n",
        "  primer_r = primer_f[['seq','start','stop','fr','len']].copy()\n",
        "  primer_r['fr'] = 'r'\n",
        "  primer_r['seq'] = primer_r.seq.apply(revcomp)\n",
        "\n",
        "  #Concatenating Forward & Reverse\n",
        "  primer_df = pd.concat([primer_f,primer_r])\n",
        "  primer_df.sort_values(by=['start','stop','fr'], inplace=True)\n",
        "\n",
        "  #Calculating \"Cost\" Values\n",
        "  primer_df['gc'] = primer_df.seq.apply(GC)\n",
        "  primer_df['tm'] = primer_df.seq.apply(pcr.calcTm)\n",
        "  res = primer_df.seq.parallel_apply(lambda s: pcr.calcHairpin(s).todict())\n",
        "  primer_df['hp_tm'] = res.apply(lambda res: res['tm'])\n",
        "  primer_df['hp_dg'] = res.apply(lambda res: res['dg']*1e-3)\n",
        "  res = primer_df.seq.parallel_apply(lambda s: pcr.calcHomodimer(s).todict())\n",
        "  primer_df['ho_tm'] = res.apply(lambda res: res['tm'])\n",
        "  primer_df['ho_dg'] = res.apply(lambda res: res['dg']*1e-3)\n",
        "\n",
        "  def primer_cost(primer):\n",
        "    # calculates primer cost based on homodimer an haipin delta G, tm cost, and len cost\n",
        "    hp_dg_max = -4\n",
        "    ho_dg_max = -8\n",
        "    tm_min = 58\n",
        "\n",
        "    tm_cost = max(0, tm_min-primer.tm)**1.7\n",
        "    hp_cost = max(0, hp_dg_max - primer.hp_dg)**1.2\n",
        "    ho_cost = max(0, ho_dg_max - primer.ho_dg)**1.2\n",
        "    len_cost = primer.len*1e-5\n",
        "\n",
        "    cost = hp_cost + ho_cost + len_cost + tm_cost\n",
        "    return cost\n",
        "\n",
        "  primer_df['cost'] = primer_df.parallel_apply(primer_cost, axis=1)\n",
        "  primer_df['log10cost'] = primer_df.cost.apply(np.log10)\n",
        "\n",
        "  primer_df.reset_index(inplace=True)\n",
        "  primer_f = primer_df.query('fr==\"f\"').reset_index(drop=True)\n",
        "  primer_r = primer_df.query('fr==\"r\"').reset_index(drop=True)\n",
        "  primer_df.set_index(['start','stop','fr'], inplace=True)\n",
        "\n",
        "  return primer_f, primer_df\n",
        "\n",
        "def check_threshold(tm,gc):\n",
        "  # returns false only if the threshold flag is on and primers did not pass threshold\n",
        "  if not apply_threshold:\n",
        "    return True\n",
        "  else:\n",
        "    if min_gc <= gc <= max_gc and  min_tm <= tm <=max_tm:\n",
        "      return True\n",
        "    else:\n",
        "      return False\n",
        "\n"
      ],
      "metadata": {
        "id": "QmO4x0Tooq9I"
      },
      "execution_count": 17,
      "outputs": []
    },
    {
      "cell_type": "markdown",
      "source": [
        "## Primer Class\n",
        "##### Creates a primer class which is used for the creation of the primer graph"
      ],
      "metadata": {
        "id": "otsTXHTLo1mB"
      }
    },
    {
      "cell_type": "code",
      "source": [
        "class Primer:\n",
        "  def __init__(self,primer_df,start,stop,is_r=False):\n",
        "    assert start < stop\n",
        "    self.start = start\n",
        "    self.stop = stop\n",
        "    self.is_r = is_r #forward or reverse\n",
        "    self.l = stop-start #length\n",
        "    self.primer_df = primer_df\n",
        "    self.w = primer_df.at[self.tup(),'cost'] #total cost value; the fancy notation is b/c\n",
        "                                             #of the hierarchal lookup system in panda.df\n",
        "\n",
        "  def __str__(self):\n",
        "    return ' '.join(map(str,(self.start, self.stop, self.is_r)))\n",
        "  def __repr__(self):\n",
        "    return f'{(\"r\" if self.is_r else\"f\")}({self.start},{self.stop})'\n",
        "  def tup(self):\n",
        "    return (self.start,self.stop,(\"r\" if self.is_r else\"f\"))\n",
        "\n",
        "\n",
        "def actions(primer_df,primer): #returning possible counterparts (forward -> reverse; reverse -> forward)\n",
        "                    #i.e. this method gets the \"neighbors\"\n",
        "  if not primer.is_r:  # fwd\n",
        "    for oligo_l, primer_l in it.product(reversed(range(oligo_lmin, oligo_lmax+1)),\n",
        "                                        range(primer_lmin,primer_lmax+1)):\n",
        "\n",
        "      stop = primer.start + oligo_l\n",
        "      start = stop - primer_l\n",
        "\n",
        "      if apply_threshold:\n",
        "        # finds tm of forward and reverse primers\n",
        "        tm_f=primer_df.at[primer.tup(),'tm']\n",
        "        tm_r=primer_df.at[(start,stop,\"r\"),'tm']\n",
        "\n",
        "        # if tm difference is larger then max_difference threshold do not add primer to graph\n",
        "        if abs(tm_f-tm_r)>max_difference:\n",
        "          continue\n",
        "\n",
        "      yield Primer(primer_df,start, stop, is_r=True)\n",
        "\n",
        "  elif primer.is_r:  # rev\n",
        "    for overlap_l, primer_l in it.product(reversed(range(overlap_lmin, overlap_lmax+1)),\n",
        "                                          range(primer_lmin,primer_lmax+1)):\n",
        "\n",
        "      start = primer.stop - overlap_l\n",
        "      stop = start + primer_l\n",
        "\n",
        "\n",
        "      # filter\n",
        "      no_split = (primer.start - stop) >= primer.start%3\n",
        "      if (stop > primer.start) or (not no_split): ## redundant to check first condition?\n",
        "        continue\n",
        "      yield Primer(primer_df,start, stop)"
      ],
      "metadata": {
        "id": "7rHWaZgWoxjs"
      },
      "execution_count": 18,
      "outputs": []
    },
    {
      "cell_type": "markdown",
      "source": [
        "## DFS for graph creation"
      ],
      "metadata": {
        "id": "jfrrZ_gbpIVg"
      }
    },
    {
      "cell_type": "code",
      "source": [
        "def dfs(G, primer, primer_df, mutreg_l): #CREATING the graph\n",
        "\n",
        "  tm=primer_df.at[primer.tup(),'tm']\n",
        "  gc=primer_df.at[primer.tup(),'gc']\n",
        "\n",
        "  if (primer.start >= mutreg_l) and primer.is_r and check_threshold(tm,gc) :  # base case (end)\n",
        "    G.add_edge(primer.tup(),'d', weight=0.) #G is global variable defined in next section\n",
        "    return\n",
        "\n",
        "  for next_primer in actions(primer_df,primer):\n",
        "\n",
        "    is_new = not G.has_node(next_primer.tup()) # check if primer node exists already\n",
        "\n",
        "    tm=primer_df.at[next_primer.tup(),'tm']\n",
        "    gc=primer_df.at[next_primer.tup(),'gc']\n",
        "\n",
        "    passes_threshold= check_threshold(tm,gc) # check if primer passes threshold\n",
        "\n",
        "    # only add edge if primer passes threshold\n",
        "    if passes_threshold:\n",
        "      G.add_edge(primer.tup(),next_primer.tup(), weight=next_primer.w) #weight is the cost of the new primer\n",
        "    if passes_threshold and is_new:\n",
        "      dfs(G,next_primer,primer_df,mutreg_l)\n",
        "\n",
        "def paths_ct(G, u, d): #total # of paths between two points\n",
        "    if u == d:\n",
        "        return 1\n",
        "    else:\n",
        "        if not G.nodes[u]: #npaths attribute is the # of paths out of u\n",
        "            G.nodes[u]['npaths'] = sum(paths_ct(G, c, d) for c in G.successors(u))\n",
        "        return G.nodes[u]['npaths']"
      ],
      "metadata": {
        "id": "wWCxNKItpGng"
      },
      "execution_count": 19,
      "outputs": []
    },
    {
      "cell_type": "markdown",
      "source": [
        "## Greedy algorithm implementation"
      ],
      "metadata": {
        "id": "dcR5IKD9o_-q"
      }
    },
    {
      "cell_type": "code",
      "source": [
        "def run_greedy(sequences_nt, mutreg_regions):\n",
        "    path_ls = []\n",
        "    total_cost = 0\n",
        "\n",
        "    for seq_nt, mutreg_nt in zip(sequences_nt, mutreg_regions):\n",
        "\n",
        "        print(\"Protein number:\", len(path_ls))\n",
        "\n",
        "        G, primer_df = create_single_graph(mutreg_nt, seq_nt)\n",
        "\n",
        "        G_sub = G.copy()\n",
        "\n",
        "        found_path = False\n",
        "\n",
        "        while not found_path:\n",
        "\n",
        "            nodes_to_remove = []\n",
        "\n",
        "            # Find the shortest path, excluding the start ('s') and end ('d') nodes\n",
        "            shortest_path = nx.algorithms.shortest_path(G_sub, 's', 'd', weight='weight')[1:-1]\n",
        "\n",
        "            for primer in shortest_path:\n",
        "                start, end, fr = primer\n",
        "\n",
        "                # Calculate the primer sequence\n",
        "                primer_seq = seq_nt[start+mutreg_start:end+mutreg_start]  # Assuming start and end are relative to the sequence\n",
        "\n",
        "                cross_hybridization = False\n",
        "\n",
        "                for i, path in enumerate(path_ls):\n",
        "\n",
        "                    other_seq = sequences_nt[i]\n",
        "\n",
        "                    for other_primer in path:\n",
        "                        other_start, other_end, other_fr = other_primer\n",
        "                        other_primer_seq = other_seq[other_start+mutreg_start:other_end+mutreg_start]\n",
        "\n",
        "                        tm = p3.bindings.calc_heterodimer(other_primer_seq, primer_seq, mv_conc=50.0, dv_conc=1.5, dntp_conc=0.6,\n",
        "                                                          dna_conc=50.0, temp_c=37.0, max_loop=30).tm\n",
        "                        if tm >= 45:\n",
        "                            cross_hybridization = True\n",
        "                            break\n",
        "\n",
        "                    if cross_hybridization:\n",
        "                        break\n",
        "\n",
        "                if cross_hybridization:\n",
        "                    nodes_to_remove.append(primer)\n",
        "\n",
        "            if nodes_to_remove:\n",
        "                G_sub.remove_nodes_from(set(nodes_to_remove))\n",
        "            else:\n",
        "                found_path = True\n",
        "                path_ls.append(shortest_path)\n",
        "                print(shortest_path)\n",
        "\n",
        "                # Calculate the cost for the found path\n",
        "                primer_set = primer_df.loc[[p for p in shortest_path]].copy().reset_index()\n",
        "                primer_cost = primer_set['cost'].sum()\n",
        "                total_cost += primer_cost\n",
        "\n",
        "    return path_ls, total_cost"
      ],
      "metadata": {
        "id": "QyBPOrTjo7Uq"
      },
      "execution_count": 20,
      "outputs": []
    },
    {
      "cell_type": "markdown",
      "source": [
        "## Gurobi setup"
      ],
      "metadata": {
        "id": "3YK80VrkpRYt"
      }
    },
    {
      "cell_type": "code",
      "source": [
        "def get_model():\n",
        "  params = {\n",
        "  \"WLSACCESSID\":\"96998216-eecd-4c3d-a975-2e0444b290f2\",\n",
        "  \"WLSSECRET\":\"40d56b13-61f6-4ce4-aac2-e07498f76065\",\n",
        "  \"LICENSEID\":2499075\n",
        "  }\n",
        "  env = gp.Env(params=params)\n",
        "\n",
        "  # Create the model within the Gurobi environment\n",
        "  model = gp.Model('min-sum', env=env)\n",
        "  return model"
      ],
      "metadata": {
        "id": "erCkpvKLpQPx"
      },
      "execution_count": 21,
      "outputs": []
    },
    {
      "cell_type": "markdown",
      "source": [
        "##Full Sequences\n",
        "##### The user can choose the mutreg sequence and upstream and downstream regions"
      ],
      "metadata": {
        "id": "NTxxworvpkod"
      }
    },
    {
      "cell_type": "code",
      "source": [
        "# constant upstream and downstream regions for 10 proteins\n",
        "upstream_nt = 'GCTAGTGGTGCTAGCCCCGCGAAATTAATACGACTCTCTATAGGGTCTAGAAATAATTTTCTTTAACTTTAAGAAGGAGATATACAT'\n",
        "downstream_nt = 'GGAGGGTCTGGGGCAGGAGGCAGTGGCATGGTGACCAAGGGCGTGGAGCTGTTCACCGGGGTGGTGCCCATCCTGGTCGAGCTGGACGGCGACGTAAACGGCCACAAGTTCAGCGTGTCCGGCGAGGGCGAGGGCGATGCCACCTACGGCAAGCTGACCCTGAAGTTCATCTGCACCACCGGCAAGCTGCCCG'\n",
        "\n",
        "mutreg_regions=[]\n",
        "protein_names=[]\n",
        "\n",
        "# read 10 protein coding sequences from file\n",
        "with open('10 coding sequences.txt') as file:\n",
        "  for line in file.readlines():\n",
        "    p_name, mutreg_region = line.strip().split('\\t')\n",
        "    mutreg_regions.append(mutreg_region)\n",
        "    protein_names.append(p_name)\n",
        "\n",
        "sequences_nt=[]\n",
        "\n",
        "for mutreg_nt in mutreg_regions:\n",
        "  sequence= upstream_nt + mutreg_nt + downstream_nt\n",
        "  sequences_nt.append(sequence)"
      ],
      "metadata": {
        "id": "I87Hwv1jpcir"
      },
      "execution_count": 22,
      "outputs": []
    },
    {
      "cell_type": "markdown",
      "source": [
        "## Define parameters"
      ],
      "metadata": {
        "id": "w-3K-IxqpyfL"
      }
    },
    {
      "cell_type": "code",
      "source": [
        "# adjust algorithm parameters\n",
        "primer_lmin, primer_lmax = 18, 30\n",
        "overlap_lmin,overlap_lmax = 45,50\n",
        "oligo_lmin,oligo_lmax = 195,205\n",
        "allowed_overlap = 6\n",
        "mutreg_start = len(upstream_nt)\n",
        "\n",
        "# sets up pcr reaction with parameters\n",
        "pcr = p3.thermoanalysis.ThermoAnalysis(dna_conc= 250,\n",
        "                                       mv_conc= 50,\n",
        "                                       dv_conc= 0,\n",
        "                                       dntp_conc= 0,\n",
        "                                       tm_method= 'santalucia',\n",
        "                                       salt_correction_method= 'owczarzy',\n",
        "                                       temp_c= 25)"
      ],
      "metadata": {
        "id": "vDgZX42fpsrP"
      },
      "execution_count": 23,
      "outputs": []
    },
    {
      "cell_type": "markdown",
      "source": [
        "## Efficiency Thresholds\n",
        "##### The user can choose to apply primer efficiency threshold on gc content and tm and the maximum allowed tm different between forward and reverse primer in each pair"
      ],
      "metadata": {
        "id": "dWayWbnjp7gu"
      }
    },
    {
      "cell_type": "code",
      "source": [
        "apply_threshold= False # apply threshold flag. If true, threshold will be applied\n",
        "min_gc=40\n",
        "max_gc=60\n",
        "min_tm=58\n",
        "max_tm=65\n",
        "max_difference=3"
      ],
      "metadata": {
        "id": "5ahLjdHEp2w7"
      },
      "execution_count": 24,
      "outputs": []
    },
    {
      "cell_type": "markdown",
      "source": [
        "## Create primer graph"
      ],
      "metadata": {
        "id": "LXnai7OcqD3n"
      }
    },
    {
      "cell_type": "code",
      "source": [
        "def create_single_graph(mutreg_nt,sequence_nt):\n",
        "\n",
        "    primer_f, primer_df = create_primer_df(sequence_nt)\n",
        "\n",
        "    mutreg_l = len(mutreg_nt)\n",
        "\n",
        "    G = nx.DiGraph()\n",
        "\n",
        "    primers_init = [Primer(primer_df,p.start,p.stop) for _,p in primer_f.query('stop<=0').iterrows() if check_threshold(p.tm,p.gc)]  ## all forward primers that end before mutreg and pass threshold\n",
        "    for primer in primers_init:\n",
        "      G.add_edge('s',primer.tup(), weight=primer.w) #intializing the s-primer connection\n",
        "      dfs(G, primer,primer_df,mutreg_l) #create the rest of the graph\n",
        "\n",
        "    return G, primer_df"
      ],
      "metadata": {
        "id": "goiWk1L4qBpe"
      },
      "execution_count": 25,
      "outputs": []
    },
    {
      "cell_type": "markdown",
      "source": [
        "## Run greedy algorithm"
      ],
      "metadata": {
        "id": "XlKg-XAfqLHZ"
      }
    },
    {
      "cell_type": "code",
      "source": [
        "\n",
        "start_time = time.time()\n",
        "greedy_solution, greedy_obj = run_greedy(sequences_nt, mutreg_regions)\n",
        "greedy_time = time.time() - start_time\n",
        "\n",
        "all_data=[]\n",
        "\n",
        "all_data.append({\"Greedy Solution\": greedy_solution,\n",
        "                \"Greedy Objective\": greedy_obj,\n",
        "                \"Greedy Time\": greedy_time})\n",
        "\n",
        "print(all_data[-1])\n",
        "\n",
        "run_df = pd.DataFrame(all_data)\n",
        "\n",
        "# Write the DataFrame to a CSV file\n",
        "run_df.to_csv('run_greedy.csv', index=False)"
      ],
      "metadata": {
        "colab": {
          "base_uri": "https://localhost:8080/"
        },
        "id": "X1NyDHEBqJ2_",
        "outputId": "27d5325a-3abc-4e38-dcd0-b7b2d7d94a31"
      },
      "execution_count": 26,
      "outputs": [
        {
          "output_type": "stream",
          "name": "stdout",
          "text": [
            "Protein number: 0\n"
          ]
        },
        {
          "output_type": "stream",
          "name": "stderr",
          "text": [
            "/usr/local/lib/python3.10/dist-packages/pandas/core/algorithms.py:1743: UserWarning: Function deprecated please use \"calc_tm\" instead\n",
            "  return lib.map_infer(values, mapper, convert=convert)\n",
            "<ipython-input-17-0f795d5c67af>:23: UserWarning: Function deprecated please use \"calc_hairpin\" instead\n",
            "  res = primer_df.seq.parallel_apply(lambda s: pcr.calcHairpin(s).todict())\n",
            "<ipython-input-17-0f795d5c67af>:23: UserWarning: Function deprecated please use \"calc_hairpin\" instead\n",
            "  res = primer_df.seq.parallel_apply(lambda s: pcr.calcHairpin(s).todict())\n",
            "<ipython-input-17-0f795d5c67af>:23: UserWarning: Function deprecated please use \"calc_hairpin\" instead\n",
            "  res = primer_df.seq.parallel_apply(lambda s: pcr.calcHairpin(s).todict())\n",
            "<ipython-input-17-0f795d5c67af>:23: UserWarning: Function deprecated please use \"calc_hairpin\" instead\n",
            "  res = primer_df.seq.parallel_apply(lambda s: pcr.calcHairpin(s).todict())\n",
            "<ipython-input-17-0f795d5c67af>:23: UserWarning: Function deprecated please use \"calc_hairpin\" instead\n",
            "  res = primer_df.seq.parallel_apply(lambda s: pcr.calcHairpin(s).todict())\n",
            "<ipython-input-17-0f795d5c67af>:23: UserWarning: Function deprecated please use \"calc_hairpin\" instead\n",
            "  res = primer_df.seq.parallel_apply(lambda s: pcr.calcHairpin(s).todict())\n",
            "<ipython-input-17-0f795d5c67af>:23: UserWarning: Function deprecated please use \"calc_hairpin\" instead\n",
            "  res = primer_df.seq.parallel_apply(lambda s: pcr.calcHairpin(s).todict())\n",
            "<ipython-input-17-0f795d5c67af>:23: UserWarning: Function deprecated please use \"calc_hairpin\" instead\n",
            "  res = primer_df.seq.parallel_apply(lambda s: pcr.calcHairpin(s).todict())\n",
            "<ipython-input-17-0f795d5c67af>:23: UserWarning: Function deprecated please use \"calc_hairpin\" instead\n",
            "  res = primer_df.seq.parallel_apply(lambda s: pcr.calcHairpin(s).todict())\n",
            "<ipython-input-17-0f795d5c67af>:23: UserWarning: Function deprecated please use \"calc_hairpin\" instead\n",
            "  res = primer_df.seq.parallel_apply(lambda s: pcr.calcHairpin(s).todict())\n",
            "<ipython-input-17-0f795d5c67af>:23: UserWarning: Function deprecated please use \"calc_hairpin\" instead\n",
            "  res = primer_df.seq.parallel_apply(lambda s: pcr.calcHairpin(s).todict())\n",
            "<ipython-input-17-0f795d5c67af>:23: UserWarning: Function deprecated please use \"calc_hairpin\" instead\n",
            "  res = primer_df.seq.parallel_apply(lambda s: pcr.calcHairpin(s).todict())\n",
            "<ipython-input-17-0f795d5c67af>:23: UserWarning: Function deprecated please use \"calc_hairpin\" instead\n",
            "  res = primer_df.seq.parallel_apply(lambda s: pcr.calcHairpin(s).todict())\n",
            "<ipython-input-17-0f795d5c67af>:23: UserWarning: Function deprecated please use \"calc_hairpin\" instead\n",
            "  res = primer_df.seq.parallel_apply(lambda s: pcr.calcHairpin(s).todict())\n",
            "<ipython-input-17-0f795d5c67af>:23: UserWarning: Function deprecated please use \"calc_hairpin\" instead\n",
            "  res = primer_df.seq.parallel_apply(lambda s: pcr.calcHairpin(s).todict())\n",
            "<ipython-input-17-0f795d5c67af>:23: UserWarning: Function deprecated please use \"calc_hairpin\" instead\n",
            "  res = primer_df.seq.parallel_apply(lambda s: pcr.calcHairpin(s).todict())\n",
            "<ipython-input-17-0f795d5c67af>:26: UserWarning: Function deprecated please use \"calc_homodimer\" instead\n",
            "  res = primer_df.seq.parallel_apply(lambda s: pcr.calcHomodimer(s).todict())\n",
            "<ipython-input-17-0f795d5c67af>:26: UserWarning: Function deprecated please use \"calc_homodimer\" instead\n",
            "  res = primer_df.seq.parallel_apply(lambda s: pcr.calcHomodimer(s).todict())\n",
            "<ipython-input-17-0f795d5c67af>:26: UserWarning: Function deprecated please use \"calc_homodimer\" instead\n",
            "  res = primer_df.seq.parallel_apply(lambda s: pcr.calcHomodimer(s).todict())\n",
            "<ipython-input-17-0f795d5c67af>:26: UserWarning: Function deprecated please use \"calc_homodimer\" instead\n",
            "  res = primer_df.seq.parallel_apply(lambda s: pcr.calcHomodimer(s).todict())\n",
            "<ipython-input-17-0f795d5c67af>:26: UserWarning: Function deprecated please use \"calc_homodimer\" instead\n",
            "  res = primer_df.seq.parallel_apply(lambda s: pcr.calcHomodimer(s).todict())\n",
            "<ipython-input-17-0f795d5c67af>:26: UserWarning: Function deprecated please use \"calc_homodimer\" instead\n",
            "  res = primer_df.seq.parallel_apply(lambda s: pcr.calcHomodimer(s).todict())\n",
            "<ipython-input-17-0f795d5c67af>:26: UserWarning: Function deprecated please use \"calc_homodimer\" instead\n",
            "  res = primer_df.seq.parallel_apply(lambda s: pcr.calcHomodimer(s).todict())\n",
            "<ipython-input-17-0f795d5c67af>:26: UserWarning: Function deprecated please use \"calc_homodimer\" instead\n",
            "  res = primer_df.seq.parallel_apply(lambda s: pcr.calcHomodimer(s).todict())\n",
            "<ipython-input-17-0f795d5c67af>:26: UserWarning: Function deprecated please use \"calc_homodimer\" instead\n",
            "  res = primer_df.seq.parallel_apply(lambda s: pcr.calcHomodimer(s).todict())\n",
            "<ipython-input-17-0f795d5c67af>:26: UserWarning: Function deprecated please use \"calc_homodimer\" instead\n",
            "  res = primer_df.seq.parallel_apply(lambda s: pcr.calcHomodimer(s).todict())\n",
            "<ipython-input-17-0f795d5c67af>:26: UserWarning: Function deprecated please use \"calc_homodimer\" instead\n",
            "  res = primer_df.seq.parallel_apply(lambda s: pcr.calcHomodimer(s).todict())\n",
            "<ipython-input-17-0f795d5c67af>:26: UserWarning: Function deprecated please use \"calc_homodimer\" instead\n",
            "  res = primer_df.seq.parallel_apply(lambda s: pcr.calcHomodimer(s).todict())\n",
            "<ipython-input-17-0f795d5c67af>:26: UserWarning: Function deprecated please use \"calc_homodimer\" instead\n",
            "  res = primer_df.seq.parallel_apply(lambda s: pcr.calcHomodimer(s).todict())\n",
            "<ipython-input-17-0f795d5c67af>:26: UserWarning: Function deprecated please use \"calc_homodimer\" instead\n",
            "  res = primer_df.seq.parallel_apply(lambda s: pcr.calcHomodimer(s).todict())\n",
            "<ipython-input-17-0f795d5c67af>:26: UserWarning: Function deprecated please use \"calc_homodimer\" instead\n",
            "  res = primer_df.seq.parallel_apply(lambda s: pcr.calcHomodimer(s).todict())\n",
            "<ipython-input-17-0f795d5c67af>:26: UserWarning: Function deprecated please use \"calc_homodimer\" instead\n",
            "  res = primer_df.seq.parallel_apply(lambda s: pcr.calcHomodimer(s).todict())\n"
          ]
        },
        {
          "output_type": "stream",
          "name": "stdout",
          "text": [
            "[(-83, -65, 'f'), (104, 122, 'r')]\n",
            "Protein number: 1\n"
          ]
        },
        {
          "output_type": "stream",
          "name": "stderr",
          "text": [
            "/usr/local/lib/python3.10/dist-packages/pandas/core/algorithms.py:1743: UserWarning: Function deprecated please use \"calc_tm\" instead\n",
            "  return lib.map_infer(values, mapper, convert=convert)\n",
            "<ipython-input-17-0f795d5c67af>:23: UserWarning: Function deprecated please use \"calc_hairpin\" instead\n",
            "  res = primer_df.seq.parallel_apply(lambda s: pcr.calcHairpin(s).todict())\n",
            "<ipython-input-17-0f795d5c67af>:23: UserWarning: Function deprecated please use \"calc_hairpin\" instead\n",
            "  res = primer_df.seq.parallel_apply(lambda s: pcr.calcHairpin(s).todict())\n",
            "<ipython-input-17-0f795d5c67af>:23: UserWarning: Function deprecated please use \"calc_hairpin\" instead\n",
            "  res = primer_df.seq.parallel_apply(lambda s: pcr.calcHairpin(s).todict())\n",
            "<ipython-input-17-0f795d5c67af>:23: UserWarning: Function deprecated please use \"calc_hairpin\" instead\n",
            "  res = primer_df.seq.parallel_apply(lambda s: pcr.calcHairpin(s).todict())\n",
            "<ipython-input-17-0f795d5c67af>:23: UserWarning: Function deprecated please use \"calc_hairpin\" instead\n",
            "  res = primer_df.seq.parallel_apply(lambda s: pcr.calcHairpin(s).todict())\n",
            "<ipython-input-17-0f795d5c67af>:23: UserWarning: Function deprecated please use \"calc_hairpin\" instead\n",
            "  res = primer_df.seq.parallel_apply(lambda s: pcr.calcHairpin(s).todict())\n",
            "<ipython-input-17-0f795d5c67af>:23: UserWarning: Function deprecated please use \"calc_hairpin\" instead\n",
            "  res = primer_df.seq.parallel_apply(lambda s: pcr.calcHairpin(s).todict())\n",
            "<ipython-input-17-0f795d5c67af>:23: UserWarning: Function deprecated please use \"calc_hairpin\" instead\n",
            "  res = primer_df.seq.parallel_apply(lambda s: pcr.calcHairpin(s).todict())\n",
            "<ipython-input-17-0f795d5c67af>:23: UserWarning: Function deprecated please use \"calc_hairpin\" instead\n",
            "  res = primer_df.seq.parallel_apply(lambda s: pcr.calcHairpin(s).todict())\n",
            "<ipython-input-17-0f795d5c67af>:23: UserWarning: Function deprecated please use \"calc_hairpin\" instead\n",
            "  res = primer_df.seq.parallel_apply(lambda s: pcr.calcHairpin(s).todict())\n",
            "<ipython-input-17-0f795d5c67af>:23: UserWarning: Function deprecated please use \"calc_hairpin\" instead\n",
            "  res = primer_df.seq.parallel_apply(lambda s: pcr.calcHairpin(s).todict())\n",
            "<ipython-input-17-0f795d5c67af>:23: UserWarning: Function deprecated please use \"calc_hairpin\" instead\n",
            "  res = primer_df.seq.parallel_apply(lambda s: pcr.calcHairpin(s).todict())\n",
            "<ipython-input-17-0f795d5c67af>:23: UserWarning: Function deprecated please use \"calc_hairpin\" instead\n",
            "  res = primer_df.seq.parallel_apply(lambda s: pcr.calcHairpin(s).todict())\n",
            "<ipython-input-17-0f795d5c67af>:23: UserWarning: Function deprecated please use \"calc_hairpin\" instead\n",
            "  res = primer_df.seq.parallel_apply(lambda s: pcr.calcHairpin(s).todict())\n",
            "<ipython-input-17-0f795d5c67af>:23: UserWarning: Function deprecated please use \"calc_hairpin\" instead\n",
            "  res = primer_df.seq.parallel_apply(lambda s: pcr.calcHairpin(s).todict())\n",
            "<ipython-input-17-0f795d5c67af>:23: UserWarning: Function deprecated please use \"calc_hairpin\" instead\n",
            "  res = primer_df.seq.parallel_apply(lambda s: pcr.calcHairpin(s).todict())\n",
            "<ipython-input-17-0f795d5c67af>:26: UserWarning: Function deprecated please use \"calc_homodimer\" instead\n",
            "  res = primer_df.seq.parallel_apply(lambda s: pcr.calcHomodimer(s).todict())\n",
            "<ipython-input-17-0f795d5c67af>:26: UserWarning: Function deprecated please use \"calc_homodimer\" instead\n",
            "  res = primer_df.seq.parallel_apply(lambda s: pcr.calcHomodimer(s).todict())\n",
            "<ipython-input-17-0f795d5c67af>:26: UserWarning: Function deprecated please use \"calc_homodimer\" instead\n",
            "  res = primer_df.seq.parallel_apply(lambda s: pcr.calcHomodimer(s).todict())\n",
            "<ipython-input-17-0f795d5c67af>:26: UserWarning: Function deprecated please use \"calc_homodimer\" instead\n",
            "  res = primer_df.seq.parallel_apply(lambda s: pcr.calcHomodimer(s).todict())\n",
            "<ipython-input-17-0f795d5c67af>:26: UserWarning: Function deprecated please use \"calc_homodimer\" instead\n",
            "  res = primer_df.seq.parallel_apply(lambda s: pcr.calcHomodimer(s).todict())\n",
            "<ipython-input-17-0f795d5c67af>:26: UserWarning: Function deprecated please use \"calc_homodimer\" instead\n",
            "  res = primer_df.seq.parallel_apply(lambda s: pcr.calcHomodimer(s).todict())\n",
            "<ipython-input-17-0f795d5c67af>:26: UserWarning: Function deprecated please use \"calc_homodimer\" instead\n",
            "  res = primer_df.seq.parallel_apply(lambda s: pcr.calcHomodimer(s).todict())\n",
            "<ipython-input-17-0f795d5c67af>:26: UserWarning: Function deprecated please use \"calc_homodimer\" instead\n",
            "  res = primer_df.seq.parallel_apply(lambda s: pcr.calcHomodimer(s).todict())\n",
            "<ipython-input-17-0f795d5c67af>:26: UserWarning: Function deprecated please use \"calc_homodimer\" instead\n",
            "  res = primer_df.seq.parallel_apply(lambda s: pcr.calcHomodimer(s).todict())\n",
            "<ipython-input-17-0f795d5c67af>:26: UserWarning: Function deprecated please use \"calc_homodimer\" instead\n",
            "  res = primer_df.seq.parallel_apply(lambda s: pcr.calcHomodimer(s).todict())\n",
            "<ipython-input-17-0f795d5c67af>:26: UserWarning: Function deprecated please use \"calc_homodimer\" instead\n",
            "  res = primer_df.seq.parallel_apply(lambda s: pcr.calcHomodimer(s).todict())\n",
            "<ipython-input-17-0f795d5c67af>:26: UserWarning: Function deprecated please use \"calc_homodimer\" instead\n",
            "  res = primer_df.seq.parallel_apply(lambda s: pcr.calcHomodimer(s).todict())\n",
            "<ipython-input-17-0f795d5c67af>:26: UserWarning: Function deprecated please use \"calc_homodimer\" instead\n",
            "  res = primer_df.seq.parallel_apply(lambda s: pcr.calcHomodimer(s).todict())\n",
            "<ipython-input-17-0f795d5c67af>:26: UserWarning: Function deprecated please use \"calc_homodimer\" instead\n",
            "  res = primer_df.seq.parallel_apply(lambda s: pcr.calcHomodimer(s).todict())\n",
            "<ipython-input-17-0f795d5c67af>:26: UserWarning: Function deprecated please use \"calc_homodimer\" instead\n",
            "  res = primer_df.seq.parallel_apply(lambda s: pcr.calcHomodimer(s).todict())\n",
            "<ipython-input-17-0f795d5c67af>:26: UserWarning: Function deprecated please use \"calc_homodimer\" instead\n",
            "  res = primer_df.seq.parallel_apply(lambda s: pcr.calcHomodimer(s).todict())\n"
          ]
        },
        {
          "output_type": "stream",
          "name": "stdout",
          "text": [
            "[(-83, -65, 'f'), (104, 122, 'r')]\n",
            "{'Greedy Solution': [[(-83, -65, 'f'), (104, 122, 'r')], [(-83, -65, 'f'), (104, 122, 'r')]], 'Greedy Objective': 0.00072, 'Greedy Time': 23.369624614715576}\n"
          ]
        }
      ]
    }
  ]
}